{
 "cells": [
  {
   "cell_type": "code",
   "execution_count": 2,
   "metadata": {},
   "outputs": [],
   "source": [
    "import cv2 as cv\n",
    "def Picture():\n",
    "    capture = cv.VideoCapture(0)\n",
    "    for i in range(10):\n",
    "        capture.read()\n",
    "    ret, img = capture.read() \n",
    "    capture.release()\n",
    "    cv.imshow('picture', img)\n",
    "    cv.imwrite(\"img.png\", img)\n",
    "    img_readed = cv.imread(\"img.png\")\n",
    "    img_gray = cv.cvtColor(img_readed, cv.COLOR_BGR2GRAY)\n",
    "    w,h = img_gray.shape[:2]\n",
    "    img_gray = cv.cvtColor(img_gray, cv.COLOR_GRAY2RGB)\n",
    "    cv.rectangle(img_gray, (w//2,h//2 ), (50, 50), (0, 150, 255), 2)\n",
    "    cv.line(img_gray, (w-10, 10), (w, h-10), (250, 0, 0), 2)\n",
    "    cv.imshow('gray picture', img_gray)\n",
    "    cv.imwrite(\"img_gray.png\", img_gray)\n",
    "    cv.waitKey(0)\n",
    "    cv.destroyAllWindows()    \n",
    "def Video():\n",
    "    capture = cv.VideoCapture(0)\n",
    "    fourcc = cv.VideoWriter_fourcc(*'XVID')\n",
    "    fps = 16\n",
    "    w, h = 640, 480\n",
    "    stream = cv.VideoWriter(\"test.avi\", fourcc, fps, (w, h))\n",
    "    while (capture.isOpened()):\n",
    "        ret, frame = capture.read()\n",
    "        if ret == False:\n",
    "            break\n",
    "        stream.write(frame)\n",
    "        cv.imshow('Press q to stop recording', frame)\n",
    "        if cv.waitKey(25) == ord('q'):\n",
    "            break\n",
    "    capture.release()  \n",
    "    cv.destroyAllWindows()  \n",
    "    capture = cv.VideoCapture(\"test.avi\")\n",
    "    \n",
    "    stream = cv.VideoWriter(\"test_gray.avi\", fourcc, fps, (w, h))\n",
    "    while (capture.isOpened()):\n",
    "        ret, frame = capture.read()\n",
    "        if ret == False:\n",
    "            break\n",
    "        frame_gray = cv.cvtColor(frame, cv.COLOR_BGR2GRAY)  \n",
    "        frame_gray = cv.cvtColor(frame_gray, cv.COLOR_GRAY2RGB)\n",
    "        cv.rectangle(frame_gray, (w//2,h//2 ), (50, 50), (0, 150, 255), 2)\n",
    "        cv.line(frame_gray, (0, 10), (w-10, h//2), (250, 0, 0), 2)\n",
    "        stream.write(frame_gray)\n",
    "        cv.imshow('gray video', frame_gray)\n",
    "        cv.imshow('video', frame)\n",
    "        if cv.waitKey(25) == ord('q'):\n",
    "            break\n",
    "    capture.release()        \n",
    "    cv.destroyAllWindows()  \n",
    "    \n",
    "Picture()    \n",
    "Video()\n"
   ]
  },
  {
   "cell_type": "code",
   "execution_count": null,
   "metadata": {},
   "outputs": [],
   "source": []
  },
  {
   "cell_type": "code",
   "execution_count": null,
   "metadata": {},
   "outputs": [],
   "source": []
  },
  {
   "cell_type": "code",
   "execution_count": null,
   "metadata": {},
   "outputs": [],
   "source": []
  },
  {
   "cell_type": "code",
   "execution_count": null,
   "metadata": {},
   "outputs": [],
   "source": []
  }
 ],
 "metadata": {
  "kernelspec": {
   "display_name": "Python 3",
   "language": "python",
   "name": "python3"
  },
  "language_info": {
   "codemirror_mode": {
    "name": "ipython",
    "version": 3
   },
   "file_extension": ".py",
   "mimetype": "text/x-python",
   "name": "python",
   "nbconvert_exporter": "python",
   "pygments_lexer": "ipython3",
   "version": "3.7.5"
  }
 },
 "nbformat": 4,
 "nbformat_minor": 4
}
