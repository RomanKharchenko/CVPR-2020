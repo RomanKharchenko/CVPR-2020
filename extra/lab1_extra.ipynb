{
 "cells": [
  {
   "cell_type": "code",
   "execution_count": 1,
   "metadata": {},
   "outputs": [
    {
     "name": "stdout",
     "output_type": "stream",
     "text": [
      "HSV [60.         20.          1.96078431]\n",
      "YCbCr [  1.815    128.668736 127.418688]\n"
     ]
    }
   ],
   "source": [
    "import numpy as np\n",
    "def RGBtoHSV(r,g,b):\n",
    "    r = r/255\n",
    "    g = g/255\n",
    "    b = b/255\n",
    "    rgb = np.array([r,g,b])\n",
    "    M = np.amax(rgb)\n",
    "    m = np.amin(rgb)\n",
    "    C = M - m\n",
    "    s = 0 if M == 0 else (1 - m/M)*100\n",
    "    if s == 0:\n",
    "        h = 0\n",
    "    else:    \n",
    "        switcher ={\n",
    "            r : 60*(((g-b)/C)%6),\n",
    "            g : 60*(((b-r))/C + 2),\n",
    "            b : 60*(((r-g))/C + 4)\n",
    "        }\n",
    "        \n",
    "        h = switcher.get(M)\n",
    "    v = M *100\n",
    "    result = np.array([h,s,v])\n",
    "    return result\n",
    "def RGBtoYCbCr(r,g,b):\n",
    "    Y = 0.299 * r + 0.587 * g + 0.114 * b\n",
    "    Cb = 128 - 0.168736 * r - 0.331264 * g + 0.5 * b\n",
    "    Cr = 128 + 0.5 * r - 0.418688 * g - 0.081312 * b\n",
    "    result = np.array([Y,Cb,Cr])\n",
    "    return result\n",
    "print(\"HSV \" + str(RGBtoHSV(5,5,4)))\n",
    "print(\"YCbCr \" + str(RGBtoYCbCr(1,2,3)))\n",
    "\n"
   ]
  },
  {
   "cell_type": "code",
   "execution_count": null,
   "metadata": {},
   "outputs": [],
   "source": []
  }
 ],
 "metadata": {
  "kernelspec": {
   "display_name": "Python 3",
   "language": "python",
   "name": "python3"
  },
  "language_info": {
   "codemirror_mode": {
    "name": "ipython",
    "version": 3
   },
   "file_extension": ".py",
   "mimetype": "text/x-python",
   "name": "python",
   "nbconvert_exporter": "python",
   "pygments_lexer": "ipython3",
   "version": "3.7.5"
  }
 },
 "nbformat": 4,
 "nbformat_minor": 4
}
